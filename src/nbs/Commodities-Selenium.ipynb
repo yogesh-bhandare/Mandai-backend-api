{
 "cells": [
  {
   "cell_type": "code",
   "execution_count": 5,
   "id": "ef9efd28-c932-4c29-862b-f72e8304d805",
   "metadata": {},
   "outputs": [],
   "source": [
    "import setup\n",
    "setup.init_django('home')"
   ]
  },
  {
   "cell_type": "code",
   "execution_count": 6,
   "id": "9271c823-7d4f-4efe-ba05-4e26b644a3d5",
   "metadata": {},
   "outputs": [],
   "source": [
    "import helpers\n",
    "from commodities.tasks import scrape_commodity_url_task, scrape_commodities_task"
   ]
  },
  {
   "cell_type": "code",
   "execution_count": 7,
   "id": "2189ed0b-c34b-45ec-856f-4b84f266a649",
   "metadata": {},
   "outputs": [],
   "source": [
    "url = \"http://www.puneapmc.org/rates.aspx\""
   ]
  },
  {
   "cell_type": "code",
   "execution_count": 8,
   "id": "087cb856-9959-4c38-9071-02ae6c01dd86",
   "metadata": {},
   "outputs": [
    {
     "data": {
      "text/plain": [
       "<AsyncResult: 436d31a3-f984-450f-9753-5a7fb5cf2274>"
      ]
     },
     "execution_count": 8,
     "metadata": {},
     "output_type": "execute_result"
    }
   ],
   "source": [
    "scrape_commodity_url_task.delay(url)"
   ]
  },
  {
   "cell_type": "code",
   "execution_count": 5,
   "id": "166e0a6a-d6ff-405f-8c87-249a76379026",
   "metadata": {},
   "outputs": [
    {
     "data": {
      "text/plain": [
       "<AsyncResult: 6bb825ff-ac20-4c3d-923d-365d322c779e>"
      ]
     },
     "execution_count": 5,
     "metadata": {},
     "output_type": "execute_result"
    }
   ],
   "source": [
    "scrape_commodities_task.delay()"
   ]
  },
  {
   "cell_type": "code",
   "execution_count": null,
   "id": "4648031f-00b1-468d-9176-2c69247f2561",
   "metadata": {},
   "outputs": [],
   "source": []
  }
 ],
 "metadata": {
  "kernelspec": {
   "display_name": "Python 3 (ipykernel)",
   "language": "python",
   "name": "python3"
  },
  "language_info": {
   "codemirror_mode": {
    "name": "ipython",
    "version": 3
   },
   "file_extension": ".py",
   "mimetype": "text/x-python",
   "name": "python",
   "nbconvert_exporter": "python",
   "pygments_lexer": "ipython3",
   "version": "3.11.0rc2"
  }
 },
 "nbformat": 4,
 "nbformat_minor": 5
}
