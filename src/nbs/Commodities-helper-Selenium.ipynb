{
 "cells": [
  {
   "cell_type": "code",
   "execution_count": 1,
   "id": "ef9efd28-c932-4c29-862b-f72e8304d805",
   "metadata": {},
   "outputs": [
    {
     "name": "stdout",
     "output_type": "stream",
     "text": [
      "D:/Development_24/DJ-Celery/src/nbs home src\n",
      "D:/Development_24/DJ-Celery/src\n"
     ]
    }
   ],
   "source": [
    "import setup\n",
    "setup.init_django('home')"
   ]
  },
  {
   "cell_type": "code",
   "execution_count": 19,
   "id": "9271c823-7d4f-4efe-ba05-4e26b644a3d5",
   "metadata": {},
   "outputs": [],
   "source": [
    "import helpers\n",
    "from commodities.models import CommodityScrapeEvent, Commodity"
   ]
  },
  {
   "cell_type": "code",
   "execution_count": 11,
   "id": "2189ed0b-c34b-45ec-856f-4b84f266a649",
   "metadata": {},
   "outputs": [],
   "source": [
    "url = \"https://agmarknet.gov.in/SearchCmmMkt.aspx?Tx_Commodity=4&Tx_State=MH&Tx_District=14&Tx_Market=172&DateFrom=12-Nov-2024&DateTo=12-Nov-2024&Fr_Date=12-Nov-2024&To_Date=12-Nov-2024&Tx_Trend=0&Tx_CommodityHead=Maize&Tx_StateHead=Maharashtra&Tx_DistrictHead=Pune&Tx_MarketHead=Pune\""
   ]
  },
  {
   "cell_type": "code",
   "execution_count": 12,
   "id": "9a6d2280-c75a-4886-a7dd-8eee9a1913be",
   "metadata": {},
   "outputs": [
    {
     "name": "stdout",
     "output_type": "stream",
     "text": [
      "Connecting to the scraping browser...\n",
      "Connected Navigating to https://agmarknet.gov.in/SearchCmmMkt.aspx?Tx_Commodity=4&Tx_State=MH&Tx_District=14&Tx_Market=172&DateFrom=12-Nov-2024&DateTo=12-Nov-2024&Fr_Date=12-Nov-2024&To_Date=12-Nov-2024&Tx_Trend=0&Tx_CommodityHead=Maize&Tx_StateHead=Maharashtra&Tx_DistrictHead=Pune&Tx_MarketHead=Pune\n",
      "Navigated! Scraping page content.\n"
     ]
    }
   ],
   "source": [
    "html = helpers.scrape(url)"
   ]
  },
  {
   "cell_type": "code",
   "execution_count": 13,
   "id": "2a192b06-4415-4eab-a7bf-7016606a10b4",
   "metadata": {},
   "outputs": [],
   "source": [
    "data = helpers.extract_table_data(html)"
   ]
  },
  {
   "cell_type": "code",
   "execution_count": 14,
   "id": "bdf9e4aa-3553-4357-84ad-5f23c8627bb5",
   "metadata": {},
   "outputs": [
    {
     "name": "stdout",
     "output_type": "stream",
     "text": [
      "{'Sl no.': '1', 'District Name': 'Pune', 'Market Name': 'Pune', 'Commodity': 'Maize', 'Variety': 'Deshi Red', 'Grade': 'FAQ', 'Min Price (Rs./Quintal)': 3000.0, 'Max Price (Rs./Quintal)': 3400.0, 'Modal Price (Rs./Quintal)': 3200.0, 'Price Date': '12 Nov 2024'}\n"
     ]
    }
   ],
   "source": [
    "print(data)"
   ]
  },
  {
   "cell_type": "code",
   "execution_count": 17,
   "id": "2652f1a7-2143-47c8-973b-754b833d7b09",
   "metadata": {},
   "outputs": [
    {
     "data": {
      "text/plain": [
       "(<CommodityScrapeEvent: Scrape event for Maize in Pune on 2024-11-12 on 2024-11-12>,\n",
       " False)"
      ]
     },
     "execution_count": 17,
     "metadata": {},
     "output_type": "execute_result"
    }
   ],
   "source": [
    "CommodityScrapeEvent.objects.create_scrape_event(data, url)"
   ]
  },
  {
   "cell_type": "code",
   "execution_count": 16,
   "id": "d7ae22da-a598-4609-b8fe-1b040e378f34",
   "metadata": {},
   "outputs": [
    {
     "data": {
      "text/plain": [
       "<QuerySet [<CommodityScrapeEvent: Scrape event for Maize in Pune on 2024-11-13 on 2024-11-13>, <CommodityScrapeEvent: Scrape event for Maize in Pune on 2024-11-13 on 2024-11-13>, <CommodityScrapeEvent: Scrape event for Maize in Pune on 2024-11-12 on 2024-11-12>]>"
      ]
     },
     "execution_count": 16,
     "metadata": {},
     "output_type": "execute_result"
    }
   ],
   "source": [
    "qs = CommodityScrapeEvent.objects.all()\n",
    "qs"
   ]
  },
  {
   "cell_type": "code",
   "execution_count": 20,
   "id": "43ab7999-8a18-45e5-8a59-189e8ddc5b8e",
   "metadata": {},
   "outputs": [
    {
     "data": {
      "text/plain": [
       "<QuerySet [<Commodity: Maize in Pune on 2024-11-13>, <Commodity: Maize in Pune on 2024-11-12>]>"
      ]
     },
     "execution_count": 20,
     "metadata": {},
     "output_type": "execute_result"
    }
   ],
   "source": [
    "commodity_qs = Commodity.objects.all()\n",
    "commodity_qs"
   ]
  },
  {
   "cell_type": "code",
   "execution_count": null,
   "id": "087cb856-9959-4c38-9071-02ae6c01dd86",
   "metadata": {},
   "outputs": [],
   "source": []
  }
 ],
 "metadata": {
  "kernelspec": {
   "display_name": "Python 3 (ipykernel)",
   "language": "python",
   "name": "python3"
  },
  "language_info": {
   "codemirror_mode": {
    "name": "ipython",
    "version": 3
   },
   "file_extension": ".py",
   "mimetype": "text/x-python",
   "name": "python",
   "nbconvert_exporter": "python",
   "pygments_lexer": "ipython3",
   "version": "3.11.0rc2"
  }
 },
 "nbformat": 4,
 "nbformat_minor": 5
}
